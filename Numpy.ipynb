{
 "cells": [
  {
   "cell_type": "code",
   "execution_count": 1,
   "id": "3160fb69-6b14-459d-b142-ee2f603c3bb2",
   "metadata": {},
   "outputs": [
    {
     "name": "stdout",
     "output_type": "stream",
     "text": [
      "Requirement already satisfied: numpy in c:\\users\\ideal\\appdata\\local\\programs\\python\\python312\\lib\\site-packages (2.1.3)Note: you may need to restart the kernel to use updated packages.\n",
      "\n"
     ]
    },
    {
     "name": "stderr",
     "output_type": "stream",
     "text": [
      "\n",
      "[notice] A new release of pip is available: 25.0.1 -> 25.1.1\n",
      "[notice] To update, run: python.exe -m pip install --upgrade pip\n"
     ]
    }
   ],
   "source": [
    "pip install numpy"
   ]
  },
  {
   "cell_type": "code",
   "execution_count": 2,
   "id": "5c282f1c-73c7-497f-84aa-e2f53212e127",
   "metadata": {},
   "outputs": [
    {
     "name": "stdout",
     "output_type": "stream",
     "text": [
      "2.1.3\n"
     ]
    }
   ],
   "source": [
    "import numpy as np\n",
    "print(np.__version__)\n"
   ]
  },
  {
   "cell_type": "code",
   "execution_count": 5,
   "id": "9be7fd7e-6d64-4cfe-a826-7ae336adc50b",
   "metadata": {},
   "outputs": [
    {
     "name": "stdout",
     "output_type": "stream",
     "text": [
      "[1 2 3 4 5]\n"
     ]
    }
   ],
   "source": [
    "import numpy as np\n",
    "\n",
    "# Create a 1D array\n",
    "data = [1, 2, 3, 4, 5]\n",
    "array1 = np.array(data)\n",
    "print(array1)\n",
    "# Output: [1 2 3 4 5]"
   ]
  },
  {
   "cell_type": "code",
   "execution_count": 6,
   "id": "61a67896-de5d-4d94-bfc1-08b71dce0a3f",
   "metadata": {},
   "outputs": [
    {
     "name": "stdout",
     "output_type": "stream",
     "text": [
      "[[1 2 3]\n",
      " [4 5 6]]\n"
     ]
    }
   ],
   "source": [
    "# Create a 2D array\n",
    "data_2d = [[1, 2, 3], [4, 5, 6]]\n",
    "array2 = np.array(data_2d)\n",
    "print(array2)\n",
    "# Output:\n",
    "# [[1 2 3]\n",
    "#  [4 5 6]]"
   ]
  },
  {
   "cell_type": "code",
   "execution_count": 7,
   "id": "61ae73f4-e785-45bb-b990-4cae3d64f45a",
   "metadata": {},
   "outputs": [
    {
     "name": "stdout",
     "output_type": "stream",
     "text": [
      "[[0. 0. 0.]\n",
      " [0. 0. 0.]]\n",
      "[[1. 1.]\n",
      " [1. 1.]\n",
      " [1. 1.]]\n",
      "[0 2 4 6 8]\n",
      "[0.   0.25 0.5  0.75 1.  ]\n"
     ]
    }
   ],
   "source": [
    "# Array of zeros\n",
    "zeros = np.zeros((2, 3))  # 2 rows, 3 columns\n",
    "print(zeros)\n",
    "# Output:\n",
    "# [[0. 0. 0.]\n",
    "#  [0. 0. 0.]]\n",
    "\n",
    "# Array of ones\n",
    "ones = np.ones((3, 2))  # 3 rows, 2 columns\n",
    "print(ones)\n",
    "# Output:\n",
    "# [[1. 1.]\n",
    "#  [1. 1.]\n",
    "#  [1. 1.]]\n",
    "\n",
    "# Array with a range of values\n",
    "range_array = np.arange(0, 10, 2)  # Start, stop, step\n",
    "print(range_array)\n",
    "# Output: [0 2 4 6 8]\n",
    "\n",
    "# Array with evenly spaced values\n",
    "linspace_array = np.linspace(0, 1, 5)  # Start, stop, number of points\n",
    "print(linspace_array)\n",
    "# Output: [0.   0.25 0.5  0.75 1.  ]"
   ]
  },
  {
   "cell_type": "code",
   "execution_count": 8,
   "id": "c8cc249f-1f75-425e-bf54-036808ff5e91",
   "metadata": {},
   "outputs": [
    {
     "name": "stdout",
     "output_type": "stream",
     "text": [
      "Shape: (2, 3)\n",
      "Dimensions: 2\n",
      "Data type: int64\n",
      "Size: 6\n"
     ]
    }
   ],
   "source": [
    "array = np.array([[1, 2, 3], [4, 5, 6]])\n",
    "print(\"Shape:\", array.shape)  # Output: (2, 3)\n",
    "print(\"Dimensions:\", array.ndim)  # Output: 2\n",
    "print(\"Data type:\", array.dtype)  # Output: int64\n",
    "print(\"Size:\", array.size)  # Output: 6"
   ]
  },
  {
   "cell_type": "code",
   "execution_count": 9,
   "id": "28ffe373-d5ff-48d0-ab67-ce15184a3d5e",
   "metadata": {},
   "outputs": [
    {
     "name": "stdout",
     "output_type": "stream",
     "text": [
      "Addition: [5 7 9]\n",
      "Multiplication: [ 4 10 18]\n",
      "Scalar multiplication: [2 4 6]\n"
     ]
    }
   ],
   "source": [
    "# Create two arrays\n",
    "a = np.array([1, 2, 3])\n",
    "b = np.array([4, 5, 6])\n",
    "\n",
    "# Element-wise operations\n",
    "print(\"Addition:\", a + b)  # Output: [5 7 9]\n",
    "print(\"Multiplication:\", a * b)  # Output: [ 4 10 18]\n",
    "print(\"Scalar multiplication:\", a * 2)  # Output: [2 4 6]"
   ]
  },
  {
   "cell_type": "code",
   "execution_count": 10,
   "id": "9b9b42c7-3a54-4726-84ee-9f22ef3f4c51",
   "metadata": {},
   "outputs": [
    {
     "name": "stdout",
     "output_type": "stream",
     "text": [
      "Square root: [1. 2. 3.]\n",
      "Mean: 4.666666666666667\n",
      "Standard deviation: 3.2998316455372216\n"
     ]
    }
   ],
   "source": [
    "# Create an array\n",
    "data = np.array([1, 4, 9])\n",
    "\n",
    "print(\"Square root:\", np.sqrt(data))  # Output: [1. 2. 3.]\n",
    "print(\"Mean:\", np.mean(data))  # Output: 4.666666666666667\n",
    "print(\"Standard deviation:\", np.std(data))  # Output: 3.559026084010437"
   ]
  },
  {
   "cell_type": "code",
   "execution_count": 11,
   "id": "9f21e991-0ba3-4a72-bfb8-c3481f72f998",
   "metadata": {},
   "outputs": [
    {
     "name": "stdout",
     "output_type": "stream",
     "text": [
      "First element: 10\n",
      "Slice [1:4]: [20 30 40]\n"
     ]
    }
   ],
   "source": [
    "array = np.array([10, 20, 30, 40, 50])\n",
    "print(\"First element:\", array[0])  # Output: 10\n",
    "print(\"Slice [1:4]:\", array[1:4])  # Output: [20 30 40]"
   ]
  },
  {
   "cell_type": "code",
   "execution_count": 12,
   "id": "8e6495ec-e1b8-45ea-80b9-06fae6c1e8b1",
   "metadata": {},
   "outputs": [
    {
     "name": "stdout",
     "output_type": "stream",
     "text": [
      "Element at (1, 2): 6\n",
      "First row: [1 2 3]\n",
      "Second column: [2 5 8]\n"
     ]
    }
   ],
   "source": [
    "array_2d = np.array([[1, 2, 3], [4, 5, 6], [7, 8, 9]])\n",
    "print(\"Element at (1, 2):\", array_2d[1, 2])  # Output: 6\n",
    "print(\"First row:\", array_2d[0, :])  # Output: [1 2 3]\n",
    "print(\"Second column:\", array_2d[:, 1])  # Output: [2 5 8]"
   ]
  },
  {
   "cell_type": "code",
   "execution_count": 13,
   "id": "5976b520-fc5b-4986-86ca-5cb140be5080",
   "metadata": {},
   "outputs": [
    {
     "name": "stdout",
     "output_type": "stream",
     "text": [
      "[30 40 50]\n"
     ]
    }
   ],
   "source": [
    "data = np.array([10, 20, 30, 40, 50])\n",
    "print(data[data > 25])  # Output: [30 40 50]"
   ]
  },
  {
   "cell_type": "code",
   "execution_count": 14,
   "id": "f1b46d2f-0d2f-47c5-b66f-9c28f274d272",
   "metadata": {},
   "outputs": [
    {
     "name": "stdout",
     "output_type": "stream",
     "text": [
      "Original: [ 0  1  2  3  4  5  6  7  8  9 10 11]\n",
      "Reshaped:\n",
      " [[ 0  1  2  3]\n",
      " [ 4  5  6  7]\n",
      " [ 8  9 10 11]]\n"
     ]
    }
   ],
   "source": [
    "# Create a 1D array\n",
    "array = np.arange(12)\n",
    "print(\"Original:\", array)\n",
    "# Output: [ 0  1  2  3  4  5  6  7  8  9 10 11]\n",
    "\n",
    "# Reshape to 3x4\n",
    "reshaped = array.reshape(3, 4)\n",
    "print(\"Reshaped:\\n\", reshaped)\n",
    "# Output:\n",
    "# [[ 0  1  2  3]\n",
    "#  [ 4  5  6  7]\n",
    "#  [ 8  9 10 11]]"
   ]
  },
  {
   "cell_type": "code",
   "execution_count": 15,
   "id": "678757e1-d27e-4f0d-b206-09bd67192363",
   "metadata": {},
   "outputs": [
    {
     "name": "stdout",
     "output_type": "stream",
     "text": [
      "Row concatenation:\n",
      " [[1 2]\n",
      " [3 4]\n",
      " [5 6]\n",
      " [7 8]]\n",
      "Column concatenation:\n",
      " [[1 2 5 6]\n",
      " [3 4 7 8]]\n"
     ]
    }
   ],
   "source": [
    "# Create two arrays\n",
    "a = np.array([[1, 2], [3, 4]])\n",
    "b = np.array([[5, 6], [7, 8]])\n",
    "\n",
    "# Concatenate along rows (axis=0)\n",
    "row_concat = np.concatenate((a, b), axis=0)\n",
    "print(\"Row concatenation:\\n\", row_concat)\n",
    "# Output:\n",
    "# [[1 2]\n",
    "#  [3 4]\n",
    "#  [5 6]\n",
    "#  [7 8]]\n",
    "\n",
    "# Concatenate along columns (axis=1)\n",
    "col_concat = np.concatenate((a, b), axis=1)\n",
    "print(\"Column concatenation:\\n\", col_concat)\n",
    "# Output:\n",
    "# [[1 2 5 6]\n",
    "#  [3 4 7 8]]"
   ]
  },
  {
   "cell_type": "code",
   "execution_count": 16,
   "id": "2937da87-42b6-4cdd-973f-c62f443ce9d8",
   "metadata": {},
   "outputs": [
    {
     "name": "stdout",
     "output_type": "stream",
     "text": [
      "[[11 22 33]\n",
      " [14 25 36]]\n"
     ]
    }
   ],
   "source": [
    "# Create a 2D array and a 1D array\n",
    "array_2d = np.array([[1, 2, 3], [4, 5, 6]])\n",
    "array_1d = np.array([10, 20, 30])\n",
    "\n",
    "# Add them\n",
    "result = array_2d + array_1d\n",
    "print(result)\n",
    "# Output:\n",
    "# [[11 22 33]\n",
    "#  [14 25 36]]"
   ]
  },
  {
   "cell_type": "code",
   "execution_count": 17,
   "id": "1127d9ef-9a02-46ab-9430-5fa440269a45",
   "metadata": {},
   "outputs": [
    {
     "name": "stdout",
     "output_type": "stream",
     "text": [
      "Weekly totals: [400 375 425 380]\n",
      "Product averages: [118.75 148.75 127.5 ]\n",
      "High sales weeks:\n",
      " [[130 160 135]]\n"
     ]
    }
   ],
   "source": [
    "# Sales data (rows: weeks, columns: products)\n",
    "sales = np.array([[120, 150, 130],\n",
    "                  [110, 140, 125],\n",
    "                  [130, 160, 135],\n",
    "                  [115, 145, 120]])\n",
    "\n",
    "# Calculate total sales per week\n",
    "weekly_totals = np.sum(sales, axis=1)\n",
    "print(\"Weekly totals:\", weekly_totals)\n",
    "# Output: [400 375 425 380]\n",
    "\n",
    "# Calculate average sales per product\n",
    "product_averages = np.mean(sales, axis=0)\n",
    "print(\"Product averages:\", product_averages)\n",
    "# Output: [118.75 148.75 127.5 ]\n",
    "\n",
    "# Filter weeks with total sales > 400\n",
    "high_sales_weeks = sales[weekly_totals > 400]\n",
    "print(\"High sales weeks:\\n\", high_sales_weeks)\n",
    "# Output:\n",
    "# [[130 160 135]]"
   ]
  },
  {
   "cell_type": "code",
   "execution_count": null,
   "id": "925a08b3-8b87-44ff-9164-26c9f0101587",
   "metadata": {},
   "outputs": [],
   "source": []
  }
 ],
 "metadata": {
  "kernelspec": {
   "display_name": "Python 3 (ipykernel)",
   "language": "python",
   "name": "python3"
  },
  "language_info": {
   "codemirror_mode": {
    "name": "ipython",
    "version": 3
   },
   "file_extension": ".py",
   "mimetype": "text/x-python",
   "name": "python",
   "nbconvert_exporter": "python",
   "pygments_lexer": "ipython3",
   "version": "3.12.4"
  }
 },
 "nbformat": 4,
 "nbformat_minor": 5
}
