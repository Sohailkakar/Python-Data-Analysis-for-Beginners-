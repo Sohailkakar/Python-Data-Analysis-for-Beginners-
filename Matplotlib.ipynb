# Chapter 4: Matplotlib - Data Visualization
# ==========================================
# 
# Welcome to Matplotlib Fundamentals!
# 
# Matplotlib is the most popular plotting library for Python. It provides
# a comprehensive set of tools for creating static, animated, and interactive
# visualizations in Python.
# 
# Learning Objectives:
# - Understand basic plotting concepts
# - Create different types of plots (line, scatter, bar, histogram)
# - Customize plot appearance and styling
# - Work with subplots and multiple plots
# - Apply best practices for data visualization
# 
# Prerequisites:
# - Chapter 1: Introduction to Python Data Analysis
# - Chapter 2: NumPy Fundamentals
# - Chapter 3: Pandas Data Manipulation
# - Basic Python knowledge
# 
# Author: Muhammad Sohail
# Last Updated: 2024
# Version: 1.0

# ============================================================================
# 1. Introduction to Matplotlib
# ============================================================================
# 
# Matplotlib is a comprehensive library for creating static, animated, and
# interactive visualizations in Python.

print("=" * 60)
print("1. INTRODUCTION TO MATPLOTLIB")
print("=" * 60)

# Import matplotlib and check version
import matplotlib
print(f"Matplotlib version: {matplotlib.__version__}")

# Import required libraries
import numpy as np
import pandas as pd
import matplotlib.pyplot as plt

print("Matplotlib successfully imported!")

# ============================================================================
# 2. Basic Line Plot
# ============================================================================
# 
# Line plots are used to show trends over time or relationships between variables.

print("\n" + "=" * 60)
print("2. BASIC LINE PLOT")
print("=" * 60)

# Create sample data for plotting
x = np.array([1, 2, 3, 4])
y = np.array([10, 20, 25, 30])

print("Creating a basic line plot:")
print(f"X values: {x}")
print(f"Y values: {y}")

# Create a simple line plot
plt.figure(figsize=(8, 6))
plt.plot(x, y)
plt.title("Simple Line Plot")
plt.xlabel("X-axis")
plt.ylabel("Y-axis")
plt.grid(True, alpha=0.3)
plt.show()

print("Line plot created successfully!")

# ============================================================================
# 3. Working with DataFrames
# ============================================================================
# 
# Matplotlib works seamlessly with Pandas DataFrames for data visualization.

print("\n" + "=" * 60)
print("3. WORKING WITH DATAFRAMES")
print("=" * 60)

# Create a sample dataset
data = pd.DataFrame({
    'Month': ['Jan', 'Feb', 'Mar', 'Apr'],
    'Sales': [200, 250, 300, 280],
    'Expenses': [150, 180, 200, 190]
})

print("Sample dataset created:")
print(f"{data}")

# ============================================================================
# 4. Multiple Line Plot
# ============================================================================
# 
# Multiple line plots can be used to compare different variables on the same graph.

print("\n" + "=" * 60)
print("4. MULTIPLE LINE PLOT")
print("=" * 60)

# Create a line plot with multiple lines
plt.figure(figsize=(10, 6))
plt.plot(data['Month'], data['Sales'], label='Sales', marker='o', linewidth=2)
plt.plot(data['Month'], data['Expenses'], label='Expenses', marker='s', linewidth=2)
plt.title("Sales and Expenses Over Time", fontsize=14, fontweight='bold')
plt.xlabel("Month", fontsize=12)
plt.ylabel("Amount ($)", fontsize=12)
plt.legend()
plt.grid(True, alpha=0.3)
plt.tight_layout()
plt.show()

print("Multiple line plot created successfully!")

# ============================================================================
# 5. Scatter Plot
# ============================================================================
# 
# Scatter plots are used to show the relationship between two variables.

print("\n" + "=" * 60)
print("5. SCATTER PLOT")
print("=" * 60)

# Create a scatter plot
plt.figure(figsize=(8, 6))
plt.scatter(data['Sales'], data['Expenses'], color='red', s=100, alpha=0.7)
plt.title("Sales vs. Expenses", fontsize=14, fontweight='bold')
plt.xlabel("Sales ($)", fontsize=12)
plt.ylabel("Expenses ($)", fontsize=12)
plt.grid(True, alpha=0.3)
plt.tight_layout()
plt.show()

print("Scatter plot created successfully!")

# ============================================================================
# 6. Bar Plot
# ============================================================================
# 
# Bar plots are used to compare quantities across different categories.

print("\n" + "=" * 60)
print("6. BAR PLOT")
print("=" * 60)

# Create a bar plot
plt.figure(figsize=(10, 6))
bars = plt.bar(data['Month'], data['Sales'], color='blue', alpha=0.6, edgecolor='navy')
plt.title("Monthly Sales", fontsize=14, fontweight='bold')
plt.xlabel("Month", fontsize=12)
plt.ylabel("Sales ($)", fontsize=12)
plt.grid(axis='y', alpha=0.3)

# Add value labels on bars
for bar in bars:
    height = bar.get_height()
    plt.text(bar.get_x() + bar.get_width()/2., height + 5,
             f'${int(height)}', ha='center', va='bottom', fontweight='bold')

plt.tight_layout()
plt.show()

print("Bar plot created successfully!")

# ============================================================================
# 7. Histogram
# ============================================================================
# 
# Histograms are used to show the distribution of a single variable.

print("\n" + "=" * 60)
print("7. HISTOGRAM")
print("=" * 60)

# Create sample numerical data
prices = np.array([100, 120, 150, 200, 180, 130, 170, 140, 160, 190])

print(f"Sample price data: {prices}")

# Create a histogram
plt.figure(figsize=(10, 6))
plt.hist(prices, bins=5, color='green', edgecolor='black', alpha=0.7)
plt.title("Distribution of Product Prices", fontsize=14, fontweight='bold')
plt.xlabel("Price ($)", fontsize=12)
plt.ylabel("Frequency", fontsize=12)
plt.grid(axis='y', alpha=0.3)
plt.tight_layout()
plt.show()

print("Histogram created successfully!")

# ============================================================================
# 8. Customized Plots
# ============================================================================
# 
# Matplotlib provides extensive customization options for plot appearance.

print("\n" + "=" * 60)
print("8. CUSTOMIZED PLOTS")
print("=" * 60)

# Create a customized line plot
plt.figure(figsize=(10, 6))
plt.plot(data['Month'], data['Sales'], 
         color='purple', linestyle='--', marker='^', 
         linewidth=3, markersize=12, markerfacecolor='yellow')
plt.title("Customized Sales Plot", fontsize=16, fontweight='bold')
plt.xlabel("Month", fontsize=12)
plt.ylabel("Sales ($)", fontsize=12)
plt.grid(True, alpha=0.3)
plt.tight_layout()
plt.show()

print("Customized plot created successfully!")

# ============================================================================
# 9. Customizing Axes
# ============================================================================
# 
# Customizing axes can improve plot readability and appearance.

print("\n" + "=" * 60)
print("9. CUSTOMIZING AXES")
print("=" * 60)

# Create a plot with customized axes
plt.figure(figsize=(10, 6))
plt.plot(data['Month'], data['Sales'], marker='o', linewidth=2)
plt.title("Sales with Custom Axes", fontsize=14, fontweight='bold')
plt.xlabel("Month", fontsize=12)
plt.ylabel("Sales ($)", fontsize=12)
plt.ylim(0, 400)  # Set y-axis range
plt.xticks(rotation=45)  # Rotate x-axis labels
plt.grid(True, alpha=0.3)
plt.tight_layout()
plt.show()

print("Plot with customized axes created successfully!")

# ============================================================================
# 10. Subplots
# ============================================================================
# 
# Subplots allow you to create multiple plots in a single figure.

print("\n" + "=" * 60)
print("10. SUBPLOTS")
print("=" * 60)

# Create subplots (1 row, 2 columns)
fig, (ax1, ax2) = plt.subplots(1, 2, figsize=(15, 6))

# First subplot: Line plot
ax1.plot(data['Month'], data['Sales'], color='blue', marker='o', linewidth=2)
ax1.set_title("Sales", fontsize=14, fontweight='bold')
ax1.set_xlabel("Month", fontsize=12)
ax1.set_ylabel("Sales ($)", fontsize=12)
ax1.grid(True, alpha=0.3)

# Second subplot: Bar plot
bars = ax2.bar(data['Month'], data['Expenses'], color='orange', alpha=0.7)
ax2.set_title("Expenses", fontsize=14, fontweight='bold')
ax2.set_xlabel("Month", fontsize=12)
ax2.set_ylabel("Expenses ($)", fontsize=12)
ax2.set_ylim(0, 250)
ax2.grid(axis='y', alpha=0.3)

# Add value labels on bars
for bar in bars:
    height = bar.get_height()
    ax2.text(bar.get_x() + bar.get_width()/2., height + 5,
             f'${int(height)}', ha='center', va='bottom', fontweight='bold')

plt.tight_layout()
plt.show()

print("Subplots created successfully!")

# ============================================================================
# 11. Multiple Categories Plot
# ============================================================================
# 
# Plotting multiple categories helps compare different groups over time.

print("\n" + "=" * 60)
print("11. MULTIPLE CATEGORIES PLOT")
print("=" * 60)

# Create expanded sales dataset with multiple categories
sales_data = pd.DataFrame({
    'Month': ['Jan', 'Feb', 'Mar', 'Apr', 'May'],
    'Electronics': [200, 250, 300, 280, 320],
    'Clothing': [150, 180, 200, 190, 210],
    'Books': [100, 120, 130, 140, 150]
})

print("Expanded dataset with multiple categories:")
print(f"{sales_data}")

# Create multiple line plot
plt.figure(figsize=(12, 8))
plt.plot(sales_data['Month'], sales_data['Electronics'], 
         label='Electronics', marker='o', linewidth=2)
plt.plot(sales_data['Month'], sales_data['Clothing'], 
         label='Clothing', marker='s', linewidth=2)
plt.plot(sales_data['Month'], sales_data['Books'], 
         label='Books', marker='^', linewidth=2)

plt.title("Sales by Category Over Time", fontsize=16, fontweight='bold')
plt.xlabel("Month", fontsize=12)
plt.ylabel("Sales ($)", fontsize=12)
plt.legend(fontsize=12)
plt.grid(True, alpha=0.3)
plt.tight_layout()
plt.show()

print("Multiple categories plot created successfully!")

# ============================================================================
# 12. Summary and Best Practices
# ============================================================================
# 
# Let's summarize what we've learned and discuss best practices.

print("\n" + "=" * 60)
print("12. SUMMARY AND BEST PRACTICES")
print("=" * 60)

print("What We've Learned:")
print("- Basic line plots and customization")
print("- Working with DataFrames for visualization")
print("- Creating scatter plots, bar plots, and histograms")
print("- Customizing plot appearance and styling")
print("- Creating subplots and multiple plots")
print("- Plotting multiple categories")

print(f"\nBest Practices:")
print("- Always add clear titles and labels")
print("- Use appropriate colors and styles for clarity")
print("- Include legends for multiple data series")
print("- Use grid lines sparingly to improve readability")
print("- Choose appropriate plot types for your data")
print("- Keep plots simple and focused on the message")

print(f"\nNext Steps:")
print("- Explore advanced Matplotlib features")
print("- Learn about Seaborn for statistical visualization")
print("- Practice with real-world datasets")
print("- Create interactive visualizations")

print(f"\n" + "=" * 60)
print("MATPLOTLIB CHAPTER COMPLETED SUCCESSFULLY!")
print("=" * 60)
print("You now have a solid foundation in Matplotlib data visualization!") 
